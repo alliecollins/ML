{
 "cells": [
  {
   "cell_type": "markdown",
   "metadata": {},
   "source": [
    "# Homework 1 - Problem 2"
   ]
  },
  {
   "cell_type": "markdown",
   "metadata": {},
   "source": [
    "Reload data from the open data portal"
   ]
  },
  {
   "cell_type": "code",
   "execution_count": 1,
   "metadata": {},
   "outputs": [
    {
     "name": "stderr",
     "output_type": "stream",
     "text": [
      "WARNING:root:Requests made without an app_token will be subject to strict throttling limits.\n"
     ]
    }
   ],
   "source": [
    "import pandas as pd\n",
    "from sodapy import Socrata\n",
    "import numpy as np\n",
    "import matplotlib.pyplot as plt\n",
    "\n",
    "client = Socrata(\"data.cityofchicago.org\", None)\n",
    "results = client.get(\"6zsd-86xi\", where=\"year=2017 OR year=2018\",limit=1000000)\n",
    "results_df = pd.DataFrame.from_records(results)"
   ]
  },
  {
   "cell_type": "markdown",
   "metadata": {},
   "source": [
    "Note: source consulted for geomerge https://geopandas.readthedocs.io/en/latest/gallery/create_geopandas_from_pandas.html\n",
    "\n",
    "Convert into geodataframe to be able to merge to census API\n",
    "First, load necessary packages"
   ]
  },
  {
   "cell_type": "code",
   "execution_count": 2,
   "metadata": {},
   "outputs": [],
   "source": [
    "import geopandas\n",
    "import shapefile as shp\n",
    "from shapely.geometry import Point"
   ]
  },
  {
   "cell_type": "markdown",
   "metadata": {},
   "source": [
    "Create coordinate object to use as shapely object"
   ]
  },
  {
   "cell_type": "code",
   "execution_count": 3,
   "metadata": {},
   "outputs": [],
   "source": [
    "results_df['latitude'] = pd.to_numeric(results_df['latitude'])\n",
    "results_df['longitude'] = pd.to_numeric(results_df['longitude'])\n",
    "results_df['Coordinates'] = list(zip(results_df.longitude, results_df.latitude))\n",
    "results_df['Coordinates'] = results_df['Coordinates'].apply(Point)\n",
    "gdf = geopandas.GeoDataFrame(results_df, geometry='Coordinates')"
   ]
  },
  {
   "cell_type": "code",
   "execution_count": null,
   "metadata": {},
   "outputs": [],
   "source": [
    "#print(gdf.head())"
   ]
  },
  {
   "cell_type": "markdown",
   "metadata": {},
   "source": [
    "Now, load ACS data via census API \n",
    "(source consulted - documentation)"
   ]
  },
  {
   "cell_type": "code",
   "execution_count": 4,
   "metadata": {},
   "outputs": [],
   "source": [
    "import pandas as pd\n",
    "pd.set_option('display.expand_frame_repr', False)\n",
    "pd.set_option('display.precision', 2)"
   ]
  },
  {
   "cell_type": "code",
   "execution_count": 5,
   "metadata": {
    "scrolled": true
   },
   "outputs": [
    {
     "data": {
      "text/html": [
       "<div>\n",
       "<style scoped>\n",
       "    .dataframe tbody tr th:only-of-type {\n",
       "        vertical-align: middle;\n",
       "    }\n",
       "\n",
       "    .dataframe tbody tr th {\n",
       "        vertical-align: top;\n",
       "    }\n",
       "\n",
       "    .dataframe thead th {\n",
       "        text-align: right;\n",
       "    }\n",
       "</style>\n",
       "<table border=\"1\" class=\"dataframe\">\n",
       "  <thead>\n",
       "    <tr style=\"text-align: right;\">\n",
       "      <th></th>\n",
       "      <th>NAME</th>\n",
       "      <th>B23025_001E</th>\n",
       "      <th>B17001_002M</th>\n",
       "      <th>state</th>\n",
       "      <th>county</th>\n",
       "      <th>tract</th>\n",
       "      <th>block group</th>\n",
       "    </tr>\n",
       "  </thead>\n",
       "  <tbody>\n",
       "    <tr>\n",
       "      <th>1</th>\n",
       "      <td>Block Group 1, Census Tract 2519, Cook County,...</td>\n",
       "      <td>462</td>\n",
       "      <td>None</td>\n",
       "      <td>17</td>\n",
       "      <td>031</td>\n",
       "      <td>251900</td>\n",
       "      <td>1</td>\n",
       "    </tr>\n",
       "    <tr>\n",
       "      <th>2</th>\n",
       "      <td>Block Group 2, Census Tract 2519, Cook County,...</td>\n",
       "      <td>899</td>\n",
       "      <td>None</td>\n",
       "      <td>17</td>\n",
       "      <td>031</td>\n",
       "      <td>251900</td>\n",
       "      <td>2</td>\n",
       "    </tr>\n",
       "    <tr>\n",
       "      <th>3</th>\n",
       "      <td>Block Group 1, Census Tract 8211.01, Cook Coun...</td>\n",
       "      <td>1148</td>\n",
       "      <td>None</td>\n",
       "      <td>17</td>\n",
       "      <td>031</td>\n",
       "      <td>821101</td>\n",
       "      <td>1</td>\n",
       "    </tr>\n",
       "    <tr>\n",
       "      <th>4</th>\n",
       "      <td>Block Group 3, Census Tract 8211.01, Cook Coun...</td>\n",
       "      <td>1035</td>\n",
       "      <td>None</td>\n",
       "      <td>17</td>\n",
       "      <td>031</td>\n",
       "      <td>821101</td>\n",
       "      <td>3</td>\n",
       "    </tr>\n",
       "    <tr>\n",
       "      <th>5</th>\n",
       "      <td>Block Group 2, Census Tract 8211.01, Cook Coun...</td>\n",
       "      <td>556</td>\n",
       "      <td>None</td>\n",
       "      <td>17</td>\n",
       "      <td>031</td>\n",
       "      <td>821101</td>\n",
       "      <td>2</td>\n",
       "    </tr>\n",
       "  </tbody>\n",
       "</table>\n",
       "</div>"
      ],
      "text/plain": [
       "0                                               NAME B23025_001E B17001_002M state county   tract block group\n",
       "1  Block Group 1, Census Tract 2519, Cook County,...         462        None    17    031  251900           1\n",
       "2  Block Group 2, Census Tract 2519, Cook County,...         899        None    17    031  251900           2\n",
       "3  Block Group 1, Census Tract 8211.01, Cook Coun...        1148        None    17    031  821101           1\n",
       "4  Block Group 3, Census Tract 8211.01, Cook Coun...        1035        None    17    031  821101           3\n",
       "5  Block Group 2, Census Tract 8211.01, Cook Coun...         556        None    17    031  821101           2"
      ]
     },
     "execution_count": 5,
     "metadata": {},
     "output_type": "execute_result"
    }
   ],
   "source": [
    "import requests\n",
    "request_obj = requests.get('https://api.census.gov/data/2017/acs/acs5/?get=NAME,B23025_001E,B17001_002M&for=block%20group:*&in=state:17%20county:031')\n",
    "json = request_obj.json()\n",
    "df_1 = pd.DataFrame(json)\n",
    "df_1.columns = df_1.iloc[0]\n",
    "df_1 = df_1.drop(df_1.index[0])\n",
    "df_1.head()"
   ]
  },
  {
   "cell_type": "code",
   "execution_count": 6,
   "metadata": {},
   "outputs": [],
   "source": [
    "shp_path = \"./tl_2018_17_bg.shp\"\n",
    "location_match = geopandas.read_file(shp_path)"
   ]
  },
  {
   "cell_type": "code",
   "execution_count": 13,
   "metadata": {
    "scrolled": false
   },
   "outputs": [
    {
     "data": {
      "text/html": [
       "<div>\n",
       "<style scoped>\n",
       "    .dataframe tbody tr th:only-of-type {\n",
       "        vertical-align: middle;\n",
       "    }\n",
       "\n",
       "    .dataframe tbody tr th {\n",
       "        vertical-align: top;\n",
       "    }\n",
       "\n",
       "    .dataframe thead th {\n",
       "        text-align: right;\n",
       "    }\n",
       "</style>\n",
       "<table border=\"1\" class=\"dataframe\">\n",
       "  <thead>\n",
       "    <tr style=\"text-align: right;\">\n",
       "      <th></th>\n",
       "      <th>STATEFP</th>\n",
       "      <th>COUNTYFP</th>\n",
       "      <th>TRACTCE</th>\n",
       "      <th>BLKGRPCE</th>\n",
       "      <th>GEOID</th>\n",
       "      <th>NAMELSAD</th>\n",
       "      <th>MTFCC</th>\n",
       "      <th>FUNCSTAT</th>\n",
       "      <th>ALAND</th>\n",
       "      <th>AWATER</th>\n",
       "      <th>INTPTLAT</th>\n",
       "      <th>INTPTLON</th>\n",
       "      <th>geometry</th>\n",
       "    </tr>\n",
       "  </thead>\n",
       "  <tbody>\n",
       "    <tr>\n",
       "      <th>0</th>\n",
       "      <td>17</td>\n",
       "      <td>175</td>\n",
       "      <td>951500</td>\n",
       "      <td>3</td>\n",
       "      <td>171759515003</td>\n",
       "      <td>Block Group 3</td>\n",
       "      <td>G5030</td>\n",
       "      <td>S</td>\n",
       "      <td>267762910</td>\n",
       "      <td>12295</td>\n",
       "      <td>+41.0283710</td>\n",
       "      <td>-089.8495082</td>\n",
       "      <td>POLYGON ((-89.985479 40.977203, -89.9854879999...</td>\n",
       "    </tr>\n",
       "    <tr>\n",
       "      <th>1</th>\n",
       "      <td>17</td>\n",
       "      <td>175</td>\n",
       "      <td>951400</td>\n",
       "      <td>4</td>\n",
       "      <td>171759514004</td>\n",
       "      <td>Block Group 4</td>\n",
       "      <td>G5030</td>\n",
       "      <td>S</td>\n",
       "      <td>23892876</td>\n",
       "      <td>0</td>\n",
       "      <td>+41.0998489</td>\n",
       "      <td>-089.8409271</td>\n",
       "      <td>POLYGON ((-89.87840199999999 41.106688, -89.87...</td>\n",
       "    </tr>\n",
       "    <tr>\n",
       "      <th>2</th>\n",
       "      <td>17</td>\n",
       "      <td>175</td>\n",
       "      <td>951400</td>\n",
       "      <td>3</td>\n",
       "      <td>171759514003</td>\n",
       "      <td>Block Group 3</td>\n",
       "      <td>G5030</td>\n",
       "      <td>S</td>\n",
       "      <td>156690063</td>\n",
       "      <td>322516</td>\n",
       "      <td>+41.1420518</td>\n",
       "      <td>-089.8638280</td>\n",
       "      <td>POLYGON ((-89.98491399999999 41.084687, -89.98...</td>\n",
       "    </tr>\n",
       "    <tr>\n",
       "      <th>3</th>\n",
       "      <td>17</td>\n",
       "      <td>175</td>\n",
       "      <td>951400</td>\n",
       "      <td>1</td>\n",
       "      <td>171759514001</td>\n",
       "      <td>Block Group 1</td>\n",
       "      <td>G5030</td>\n",
       "      <td>S</td>\n",
       "      <td>85399097</td>\n",
       "      <td>0</td>\n",
       "      <td>+41.2067522</td>\n",
       "      <td>-089.7212073</td>\n",
       "      <td>POLYGON ((-89.810795 41.22781699999999, -89.81...</td>\n",
       "    </tr>\n",
       "    <tr>\n",
       "      <th>4</th>\n",
       "      <td>17</td>\n",
       "      <td>183</td>\n",
       "      <td>011100</td>\n",
       "      <td>1</td>\n",
       "      <td>171830111001</td>\n",
       "      <td>Block Group 1</td>\n",
       "      <td>G5030</td>\n",
       "      <td>S</td>\n",
       "      <td>84897206</td>\n",
       "      <td>320477</td>\n",
       "      <td>+39.9921826</td>\n",
       "      <td>-087.5773378</td>\n",
       "      <td>POLYGON ((-87.618442 39.999161, -87.6182269999...</td>\n",
       "    </tr>\n",
       "  </tbody>\n",
       "</table>\n",
       "</div>"
      ],
      "text/plain": [
       "  STATEFP COUNTYFP TRACTCE BLKGRPCE         GEOID       NAMELSAD  MTFCC FUNCSTAT      ALAND  AWATER     INTPTLAT      INTPTLON                                           geometry\n",
       "0      17      175  951500        3  171759515003  Block Group 3  G5030        S  267762910   12295  +41.0283710  -089.8495082  POLYGON ((-89.985479 40.977203, -89.9854879999...\n",
       "1      17      175  951400        4  171759514004  Block Group 4  G5030        S   23892876       0  +41.0998489  -089.8409271  POLYGON ((-89.87840199999999 41.106688, -89.87...\n",
       "2      17      175  951400        3  171759514003  Block Group 3  G5030        S  156690063  322516  +41.1420518  -089.8638280  POLYGON ((-89.98491399999999 41.084687, -89.98...\n",
       "3      17      175  951400        1  171759514001  Block Group 1  G5030        S   85399097       0  +41.2067522  -089.7212073  POLYGON ((-89.810795 41.22781699999999, -89.81...\n",
       "4      17      183  011100        1  171830111001  Block Group 1  G5030        S   84897206  320477  +39.9921826  -087.5773378  POLYGON ((-87.618442 39.999161, -87.6182269999..."
      ]
     },
     "execution_count": 13,
     "metadata": {},
     "output_type": "execute_result"
    }
   ],
   "source": [
    "location_match.head()"
   ]
  },
  {
   "cell_type": "code",
   "execution_count": 14,
   "metadata": {
    "scrolled": false
   },
   "outputs": [],
   "source": [
    "new_df = df_1.merge(location_match,how='left',left_on='tract',right_on='TRACTCE')"
   ]
  },
  {
   "cell_type": "code",
   "execution_count": 15,
   "metadata": {},
   "outputs": [],
   "source": [
    "census_gdf = geopandas.GeoDataFrame(new_df, geometry='geometry')"
   ]
  },
  {
   "cell_type": "code",
   "execution_count": 19,
   "metadata": {},
   "outputs": [
    {
     "data": {
      "text/plain": [
       "(15529, 20)"
      ]
     },
     "execution_count": 19,
     "metadata": {},
     "output_type": "execute_result"
    }
   ],
   "source": [
    "census_gdf.shape"
   ]
  },
  {
   "cell_type": "markdown",
   "metadata": {},
   "source": [
    "census_merge = geopandas.sjoin(test_gdf, census_gdf, how=\"inner\", op='intersects')"
   ]
  },
  {
   "cell_type": "code",
   "execution_count": null,
   "metadata": {},
   "outputs": [],
   "source": []
  }
 ],
 "metadata": {
  "kernelspec": {
   "display_name": "Python [conda env:exe] *",
   "language": "python",
   "name": "conda-env-exe-py"
  },
  "language_info": {
   "codemirror_mode": {
    "name": "ipython",
    "version": 3
   },
   "file_extension": ".py",
   "mimetype": "text/x-python",
   "name": "python",
   "nbconvert_exporter": "python",
   "pygments_lexer": "ipython3",
   "version": "3.7.3"
  }
 },
 "nbformat": 4,
 "nbformat_minor": 2
}
