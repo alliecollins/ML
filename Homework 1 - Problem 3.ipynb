{
 "cells": [
  {
   "cell_type": "markdown",
   "metadata": {},
   "source": [
    "# Homework 1 - Q3"
   ]
  },
  {
   "cell_type": "markdown",
   "metadata": {},
   "source": [
    "Overall, crime in Chicago from 2017 to 2018 appears to largely remain concentrated in the same neighborhoods. Some types of crime appear to have increased compared to the previous year, while others have slightly decreased."
   ]
  },
  {
   "cell_type": "code",
   "execution_count": 39,
   "metadata": {},
   "outputs": [
    {
     "name": "stderr",
     "output_type": "stream",
     "text": [
      "WARNING:root:Requests made without an app_token will be subject to strict throttling limits.\n"
     ]
    }
   ],
   "source": [
    "import pandas as pd\n",
    "from sodapy import Socrata\n",
    "import numpy as np\n",
    "import matplotlib.pyplot as plt\n",
    "import datetime\n",
    "\n",
    "client = Socrata(\"data.cityofchicago.org\", None)\n",
    "results = client.get(\"6zsd-86xi\", where=\"year=2017 OR year=2018\",limit=1000000)\n",
    "results_df = pd.DataFrame.from_records(results)"
   ]
  },
  {
   "cell_type": "code",
   "execution_count": 49,
   "metadata": {},
   "outputs": [],
   "source": [
    "# #Add months in \n",
    "results_df['new_date'] = pd.to_datetime(results_df['date'])\n",
    "results_df['month'] = results_df['new_date'].dt.month\n",
    "#Filter for July\n",
    "results_df = results_df.loc[results_df[\"month\"] == 7]"
   ]
  },
  {
   "cell_type": "code",
   "execution_count": 51,
   "metadata": {},
   "outputs": [
    {
     "data": {
      "text/plain": [
       "year\n",
       "2017    1004\n",
       "2018     876\n",
       "dtype: int64"
      ]
     },
     "execution_count": 51,
     "metadata": {},
     "output_type": "execute_result"
    }
   ],
   "source": [
    "robberies = results_df.loc[results_df[\"primary_type\"] == 'ROBBERY']\n",
    "robberies.groupby('year').size()\n"
   ]
  },
  {
   "cell_type": "markdown",
   "metadata": {},
   "source": [
    "Assuming from the problem that we are looking at the month of July (one part said week), this would be incorrect -- in fact robberies have declined from 2017 to 2018 as seen in the outputs above."
   ]
  },
  {
   "cell_type": "code",
   "execution_count": 52,
   "metadata": {},
   "outputs": [
    {
     "data": {
      "text/plain": [
       "year\n",
       "2017    4702\n",
       "2018    4881\n",
       "dtype: int64"
      ]
     },
     "execution_count": 52,
     "metadata": {},
     "output_type": "execute_result"
    }
   ],
   "source": [
    "battery = results_df.loc[results_df[\"primary_type\"] == 'BATTERY']\n",
    "battery.groupby('year').size()"
   ]
  },
  {
   "cell_type": "markdown",
   "metadata": {},
   "source": [
    "Batteries have increased, but only slightly -- not by 136%"
   ]
  },
  {
   "cell_type": "code",
   "execution_count": 53,
   "metadata": {},
   "outputs": [
    {
     "data": {
      "text/plain": [
       "year\n",
       "2017    1206\n",
       "2018    1139\n",
       "dtype: int64"
      ]
     },
     "execution_count": 53,
     "metadata": {},
     "output_type": "execute_result"
    }
   ],
   "source": [
    "burglary = results_df.loc[results_df[\"primary_type\"] == 'BURGLARY']\n",
    "burglary.groupby('year').size()"
   ]
  },
  {
   "cell_type": "markdown",
   "metadata": {},
   "source": [
    "Burglaries look to have declined"
   ]
  },
  {
   "cell_type": "code",
   "execution_count": 55,
   "metadata": {},
   "outputs": [
    {
     "data": {
      "text/plain": [
       "year\n",
       "2017    991\n",
       "2018    865\n",
       "dtype: int64"
      ]
     },
     "execution_count": 55,
     "metadata": {},
     "output_type": "execute_result"
    }
   ],
   "source": [
    "vehicle = results_df.loc[results_df[\"primary_type\"] == 'MOTOR VEHICLE THEFT']\n",
    "vehicle.groupby('year').size()"
   ]
  },
  {
   "cell_type": "markdown",
   "metadata": {},
   "source": [
    "Motor vehicle theft appears to have declined slightly"
   ]
  },
  {
   "cell_type": "code",
   "execution_count": 56,
   "metadata": {},
   "outputs": [
    {
     "data": {
      "text/plain": [
       "year\n",
       "2017    24797\n",
       "2018    25088\n",
       "dtype: int64"
      ]
     },
     "execution_count": 56,
     "metadata": {},
     "output_type": "execute_result"
    }
   ],
   "source": [
    "results_df.groupby('year').size()"
   ]
  },
  {
   "cell_type": "code",
   "execution_count": 57,
   "metadata": {},
   "outputs": [
    {
     "data": {
      "text/plain": [
       "0.011735290559341856"
      ]
     },
     "execution_count": 57,
     "metadata": {},
     "output_type": "execute_result"
    }
   ],
   "source": [
    "(25088 - 24797)/24797"
   ]
  },
  {
   "cell_type": "markdown",
   "metadata": {},
   "source": [
    "Overall, crime has only risen by ~1% from 2017 to 2018"
   ]
  },
  {
   "cell_type": "markdown",
   "metadata": {},
   "source": [
    "The statistics I am calculating from overall data appear different from the candidates. However, I do not know if he is putting specific date restrictions or perhaps defining Chicago as a certain subset of wards. Thus it is possible his statistics are correct based on the way he is cutting the data, but in this case, I would agree it could be interpreted as misleading since he would be cutting the data with the intent to skew peoples' perception. "
   ]
  },
  {
   "cell_type": "markdown",
   "metadata": {},
   "source": [
    "Findings related to crime --\n",
    "\n",
    "1. There is a lot of overlap in neighborhoods witnessing violent crimes of different types, e.g. neighborhoods with high homicide, battery\n",
    "\n",
    "2. These neighborhoods that figure at the top of the list for such types of crime are in fact largely concentrated in the South, West parts of the city \n",
    "\n",
    "3. Looking at overall crimes reported may not be a useful metric, since as we saw in an earlier problem, there are lots of crimes reported in more well-to-do areas that see less violent incidents (which could be thus related to willingness to report)\n",
    "\n",
    "4. Areas with violent crime, from the wards we looked at in 2, tend to be less well off socioecononically when we saw lower median income, higher unemployment\n",
    "\n",
    "5. There also appears to be correlation with race, with these areas including more non-white residents"
   ]
  },
  {
   "cell_type": "markdown",
   "metadata": {},
   "source": [
    "Caveats to the analysis include: \n",
    "\n",
    "I am new to the datasets; additional exploration would likely yield some inconsistencies or other issues in need of correcting\n",
    "\n",
    "There may be better or more nuanced ways of geographically cutting the data that additional contextual knowledge or exploration would suggest\n",
    "\n",
    "This is a one year on year explanation; more years could provide more useful longer trends\n",
    "\n",
    "Additional variables could be brought in from ACS or other sources to develop a more nuanced picture"
   ]
  }
 ],
 "metadata": {
  "kernelspec": {
   "display_name": "Python [conda env:exe] *",
   "language": "python",
   "name": "conda-env-exe-py"
  },
  "language_info": {
   "codemirror_mode": {
    "name": "ipython",
    "version": 3
   },
   "file_extension": ".py",
   "mimetype": "text/x-python",
   "name": "python",
   "nbconvert_exporter": "python",
   "pygments_lexer": "ipython3",
   "version": "3.7.3"
  }
 },
 "nbformat": 4,
 "nbformat_minor": 2
}
