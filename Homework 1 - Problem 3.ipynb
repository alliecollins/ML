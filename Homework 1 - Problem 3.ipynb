{
 "cells": [
  {
   "cell_type": "markdown",
   "metadata": {},
   "source": [
    "# Homework 1 - Q3"
   ]
  },
  {
   "cell_type": "markdown",
   "metadata": {},
   "source": [
    "How has crime changed over time?\n",
    "\n",
    "Looking at graphs and charts generated in questions 1&2, we can see that overall, crime in Chicago from 2017 to 2018 appears to largely remain concentrated in the same neighborhoods. There is some variation within some types of crime appear to have increased compared to the previous year, while others have slightly decreased."
   ]
  },
  {
   "cell_type": "code",
   "execution_count": 1,
   "metadata": {},
   "outputs": [
    {
     "name": "stderr",
     "output_type": "stream",
     "text": [
      "WARNING:root:Requests made without an app_token will be subject to strict throttling limits.\n"
     ]
    }
   ],
   "source": [
    "#Let's again reload to use in this notebook\n",
    "import pandas as pd\n",
    "from sodapy import Socrata\n",
    "import numpy as np\n",
    "import matplotlib.pyplot as plt\n",
    "import datetime\n",
    "\n",
    "client = Socrata(\"data.cityofchicago.org\", None)\n",
    "results = client.get(\"6zsd-86xi\", where=\"year=2017 OR year=2018\",limit=1000000)\n",
    "results_df = pd.DataFrame.from_records(results)"
   ]
  },
  {
   "cell_type": "markdown",
   "metadata": {},
   "source": [
    "Let's now add in date information so that we can look at the four weeks leading up to July 28th that the candidate was discussing."
   ]
  },
  {
   "cell_type": "code",
   "execution_count": 2,
   "metadata": {},
   "outputs": [
    {
     "data": {
      "text/html": [
       "<div>\n",
       "<style scoped>\n",
       "    .dataframe tbody tr th:only-of-type {\n",
       "        vertical-align: middle;\n",
       "    }\n",
       "\n",
       "    .dataframe tbody tr th {\n",
       "        vertical-align: top;\n",
       "    }\n",
       "\n",
       "    .dataframe thead th {\n",
       "        text-align: right;\n",
       "    }\n",
       "</style>\n",
       "<table border=\"1\" class=\"dataframe\">\n",
       "  <thead>\n",
       "    <tr style=\"text-align: right;\">\n",
       "      <th></th>\n",
       "      <th>arrest</th>\n",
       "      <th>beat</th>\n",
       "      <th>block</th>\n",
       "      <th>case_number</th>\n",
       "      <th>community_area</th>\n",
       "      <th>date</th>\n",
       "      <th>description</th>\n",
       "      <th>district</th>\n",
       "      <th>domestic</th>\n",
       "      <th>fbi_code</th>\n",
       "      <th>...</th>\n",
       "      <th>longitude</th>\n",
       "      <th>primary_type</th>\n",
       "      <th>updated_on</th>\n",
       "      <th>ward</th>\n",
       "      <th>x_coordinate</th>\n",
       "      <th>y_coordinate</th>\n",
       "      <th>year</th>\n",
       "      <th>new_date</th>\n",
       "      <th>month</th>\n",
       "      <th>day</th>\n",
       "    </tr>\n",
       "  </thead>\n",
       "  <tbody>\n",
       "    <tr>\n",
       "      <th>13</th>\n",
       "      <td>False</td>\n",
       "      <td>1432</td>\n",
       "      <td>021XX W MC LEAN AVE</td>\n",
       "      <td>JA353568</td>\n",
       "      <td>22</td>\n",
       "      <td>2017-07-17T10:10:00.000</td>\n",
       "      <td>OVER $500</td>\n",
       "      <td>014</td>\n",
       "      <td>False</td>\n",
       "      <td>06</td>\n",
       "      <td>...</td>\n",
       "      <td>NaN</td>\n",
       "      <td>THEFT</td>\n",
       "      <td>2017-07-24T15:54:23.000</td>\n",
       "      <td>32</td>\n",
       "      <td>NaN</td>\n",
       "      <td>NaN</td>\n",
       "      <td>2017</td>\n",
       "      <td>2017-07-17 10:10:00</td>\n",
       "      <td>7</td>\n",
       "      <td>17</td>\n",
       "    </tr>\n",
       "  </tbody>\n",
       "</table>\n",
       "<p>1 rows × 25 columns</p>\n",
       "</div>"
      ],
      "text/plain": [
       "    arrest  beat                block case_number community_area  \\\n",
       "13   False  1432  021XX W MC LEAN AVE    JA353568             22   \n",
       "\n",
       "                       date description district  domestic fbi_code  ...  \\\n",
       "13  2017-07-17T10:10:00.000   OVER $500      014     False       06  ...   \n",
       "\n",
       "   longitude primary_type               updated_on ward x_coordinate  \\\n",
       "13       NaN        THEFT  2017-07-24T15:54:23.000   32          NaN   \n",
       "\n",
       "   y_coordinate  year            new_date month day  \n",
       "13          NaN  2017 2017-07-17 10:10:00     7  17  \n",
       "\n",
       "[1 rows x 25 columns]"
      ]
     },
     "execution_count": 2,
     "metadata": {},
     "output_type": "execute_result"
    }
   ],
   "source": [
    "# #Add months in \n",
    "results_df['new_date'] = pd.to_datetime(results_df['date'])\n",
    "results_df['month'] = results_df['new_date'].dt.month\n",
    "results_df['day'] = results_df['new_date'].dt.day\n",
    "\n",
    "#Filter for the specific 4 week period in question\n",
    "july = results_df.loc[(results_df[\"day\"] < 26) & (results_df['month'] == 7)]\n",
    "june = results_df.loc[(results_df[\"day\"].isin([28,29,30])) & (results_df['month'] == 6)]\n",
    "\n",
    "date_df = pd.concat([july, june])\n",
    "date_df.head(1)"
   ]
  },
  {
   "cell_type": "code",
   "execution_count": 3,
   "metadata": {},
   "outputs": [
    {
     "data": {
      "text/plain": [
       "year\n",
       "2017    907\n",
       "2018    813\n",
       "dtype: int64"
      ]
     },
     "execution_count": 3,
     "metadata": {},
     "output_type": "execute_result"
    }
   ],
   "source": [
    "robberies = date_df.loc[date_df[\"primary_type\"] == 'ROBBERY']\n",
    "robberies.groupby('year').size()"
   ]
  },
  {
   "cell_type": "code",
   "execution_count": 4,
   "metadata": {},
   "outputs": [
    {
     "name": "stdout",
     "output_type": "stream",
     "text": [
      "Robberies decreased by -0.10\n"
     ]
    }
   ],
   "source": [
    "print('Robberies decreased by', \"{0:.2f}\".format((813 - 907)/907))"
   ]
  },
  {
   "cell_type": "markdown",
   "metadata": {},
   "source": [
    "Assuming from the problem that we are looking at the month of July (one part said week), this would be incorrect -- in fact robberies have declined from 2017 to 2018 as seen in the outputs above, by ~10%"
   ]
  },
  {
   "cell_type": "code",
   "execution_count": 5,
   "metadata": {},
   "outputs": [
    {
     "data": {
      "text/plain": [
       "year\n",
       "2017    4161\n",
       "2018    4504\n",
       "dtype: int64"
      ]
     },
     "execution_count": 5,
     "metadata": {},
     "output_type": "execute_result"
    }
   ],
   "source": [
    "battery = date_df.loc[date_df[\"primary_type\"] == 'BATTERY']\n",
    "battery.groupby('year').size()"
   ]
  },
  {
   "cell_type": "code",
   "execution_count": 6,
   "metadata": {},
   "outputs": [
    {
     "name": "stdout",
     "output_type": "stream",
     "text": [
      "Batteries increased by 0.08\n"
     ]
    }
   ],
   "source": [
    "print('Batteries increased by', \"{0:.2f}\".format((4504 - 4161)/4161))"
   ]
  },
  {
   "cell_type": "markdown",
   "metadata": {},
   "source": [
    "Batteries have increased, but only slightly, by ~8% -- not by 136%"
   ]
  },
  {
   "cell_type": "code",
   "execution_count": 7,
   "metadata": {},
   "outputs": [
    {
     "data": {
      "text/plain": [
       "year\n",
       "2017    1101\n",
       "2018    1023\n",
       "dtype: int64"
      ]
     },
     "execution_count": 7,
     "metadata": {},
     "output_type": "execute_result"
    }
   ],
   "source": [
    "burglary = date_df.loc[date_df[\"primary_type\"] == 'BURGLARY']\n",
    "burglary.groupby('year').size()"
   ]
  },
  {
   "cell_type": "code",
   "execution_count": 8,
   "metadata": {},
   "outputs": [
    {
     "name": "stdout",
     "output_type": "stream",
     "text": [
      "Burglaries decreased by -0.07\n"
     ]
    }
   ],
   "source": [
    "print('Burglaries decreased by', \"{0:.2f}\".format((1023 - 1101)/1101))"
   ]
  },
  {
   "cell_type": "markdown",
   "metadata": {},
   "source": [
    "Burglaries look to have declined as seen above."
   ]
  },
  {
   "cell_type": "code",
   "execution_count": 9,
   "metadata": {},
   "outputs": [
    {
     "data": {
      "text/plain": [
       "year\n",
       "2017    909\n",
       "2018    769\n",
       "dtype: int64"
      ]
     },
     "execution_count": 9,
     "metadata": {},
     "output_type": "execute_result"
    }
   ],
   "source": [
    "vehicle = date_df.loc[date_df[\"primary_type\"] == 'MOTOR VEHICLE THEFT']\n",
    "vehicle.groupby('year').size()"
   ]
  },
  {
   "cell_type": "code",
   "execution_count": 10,
   "metadata": {},
   "outputs": [
    {
     "name": "stdout",
     "output_type": "stream",
     "text": [
      "Vehicle theft decreased by -0.15\n"
     ]
    }
   ],
   "source": [
    "print('Vehicle theft decreased by', \"{0:.2f}\".format((769 - 909)/909))"
   ]
  },
  {
   "cell_type": "markdown",
   "metadata": {},
   "source": [
    "Motor vehicle theft appears to have declined slightly"
   ]
  },
  {
   "cell_type": "code",
   "execution_count": 11,
   "metadata": {},
   "outputs": [
    {
     "data": {
      "text/plain": [
       "year\n",
       "2017    22260\n",
       "2018    22764\n",
       "dtype: int64"
      ]
     },
     "execution_count": 11,
     "metadata": {},
     "output_type": "execute_result"
    }
   ],
   "source": [
    "date_df.groupby('year').size()"
   ]
  },
  {
   "cell_type": "code",
   "execution_count": 12,
   "metadata": {},
   "outputs": [
    {
     "name": "stdout",
     "output_type": "stream",
     "text": [
      "Overall crime has only risen by  0.02 from 2017 to 2018\n"
     ]
    }
   ],
   "source": [
    "print('Overall crime has only risen by',\" {0:.2f}\".format(((22764 - 22260)/24797)), 'from 2017 to 2018')"
   ]
  },
  {
   "cell_type": "markdown",
   "metadata": {},
   "source": [
    "Overall, crime has only risen by ~2% from 2017 to 2018"
   ]
  },
  {
   "cell_type": "markdown",
   "metadata": {},
   "source": [
    "The statistics I am calculating from overall data appear different from the candidates. However, I do not know if he is putting specific perhaps defining Chicago as a certain subset of wards (his website seemed to indicate just the 43rd ward). Thus it is possible his statistics are correct based on the way he is cutting the data, but in this case, I would agree it could be interpreted as misleading since he would be cutting the data with the intent to skew peoples' perception. The fact that the date selected was very specific also indicates to me that he was cherry-picking. \n",
    "\n",
    "Moreover, the wording on his webpage is ambiguous (in saying the month leading up to vs. week) -- it's possible that he could be doing a month to year comparison, which would be a clear example of distorting the data.\n",
    "\n",
    "Finally, as alluded to above, his website would indicate that he was looking just at ward 43. If I look at overall crime in this ward, it has actually only risen by 12%, again lower than the figures he suggested."
   ]
  },
  {
   "cell_type": "code",
   "execution_count": 17,
   "metadata": {},
   "outputs": [
    {
     "name": "stdout",
     "output_type": "stream",
     "text": [
      "Crime rose by   0.12\n"
     ]
    },
    {
     "data": {
      "text/plain": [
       "year\n",
       "2017    339\n",
       "2018    378\n",
       "dtype: int64"
      ]
     },
     "execution_count": 17,
     "metadata": {},
     "output_type": "execute_result"
    }
   ],
   "source": [
    "date_df_43 = date_df[date_df['ward'] == '43']\n",
    "print('Crime rose by ', \" {0:.2f}\".format(((378 - 339)/339)))\n",
    "date_df_43.groupby('year').size()"
   ]
  },
  {
   "cell_type": "markdown",
   "metadata": {},
   "source": [
    "Findings related to crime, as illustrated in outputs for problems 1,2 --\n",
    "\n",
    "1. There is a lot of overlap in neighborhoods witnessing violent crimes of different types, e.g. neighborhoods with high homicide, battery are typically overlapping.\n",
    "\n",
    "2. These neighborhoods that figure at the top of the list for such types of crime are in fact largely concentrated in the South, West parts of the city \n",
    "\n",
    "3. Looking at overall crimes reported may not be a useful metric, since as we saw in an earlier problem, there are lots of crimes reported in more well-to-do areas that see less violent incidents (which could be thus related to willingness to report).\n",
    "\n",
    "4. Areas with violent crime, from the wards we looked at in 2, tend to be less well off socioecononically; we saw lower median income, higher unemployment.\n",
    "\n",
    "5. There also appears to be correlation with race, with these areas including more non-white residents."
   ]
  },
  {
   "cell_type": "markdown",
   "metadata": {},
   "source": [
    "Caveats to the analysis include: \n",
    "\n",
    "I am new to the datasets; additional time and exploration would likely yield some inconsistencies or other issues in need of correcting, and there may be better or more nuanced ways of geographically cutting the data that additional contextual knowledge or exploration would suggest.\n",
    "\n",
    "This is a one year on year explanation; more years could provide more useful longer trends. \n",
    "\n",
    "Additional variables could be brought in from ACS or other sources to develop a more nuanced picture -- of which this data will still only be a small part, and additional broader context would also be needed."
   ]
  }
 ],
 "metadata": {
  "kernelspec": {
   "display_name": "Python [conda env:exe] *",
   "language": "python",
   "name": "conda-env-exe-py"
  },
  "language_info": {
   "codemirror_mode": {
    "name": "ipython",
    "version": 3
   },
   "file_extension": ".py",
   "mimetype": "text/x-python",
   "name": "python",
   "nbconvert_exporter": "python",
   "pygments_lexer": "ipython3",
   "version": "3.7.3"
  }
 },
 "nbformat": 4,
 "nbformat_minor": 2
}
