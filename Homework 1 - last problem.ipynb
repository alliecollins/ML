{
 "cells": [
  {
   "cell_type": "markdown",
   "metadata": {},
   "source": [
    "# Homework 1 - Last problem"
   ]
  },
  {
   "cell_type": "markdown",
   "metadata": {},
   "source": [
    "A. Of the types of crimes you have data for, which crime type is the most likely given the call came from 2111 S Michigan Ave? What are the probabilities for each type of request?\n",
    "\n",
    "I will use the community areas designation for this analysis."
   ]
  },
  {
   "cell_type": "code",
   "execution_count": 1,
   "metadata": {},
   "outputs": [
    {
     "name": "stderr",
     "output_type": "stream",
     "text": [
      "WARNING:root:Requests made without an app_token will be subject to strict throttling limits.\n"
     ]
    }
   ],
   "source": [
    "#Grab the data\n",
    "import pandas as pd\n",
    "from sodapy import Socrata\n",
    "import numpy as np\n",
    "import matplotlib.pyplot as plt\n",
    "\n",
    "client = Socrata(\"data.cityofchicago.org\", None)\n",
    "results = client.get(\"6zsd-86xi\", where=\"year=2017 OR year=2018\",limit=1000000)\n",
    "results_df = pd.DataFrame.from_records(results)"
   ]
  },
  {
   "cell_type": "markdown",
   "metadata": {},
   "source": [
    "Part A. The address provided 2111 South Michigan Ave, is in community area 33, the Near South Side. I will look at crime types for that community area."
   ]
  },
  {
   "cell_type": "code",
   "execution_count": 2,
   "metadata": {},
   "outputs": [
    {
     "data": {
      "text/plain": [
       "primary_type\n",
       "ARSON                                0.000791\n",
       "ASSAULT                              0.056977\n",
       "BATTERY                              0.155368\n",
       "BURGLARY                             0.024532\n",
       "CONCEALED CARRY LICENSE VIOLATION    0.000264\n",
       "CRIM SEXUAL ASSAULT                  0.005539\n",
       "CRIMINAL DAMAGE                      0.091005\n",
       "CRIMINAL TRESPASS                    0.036402\n",
       "DECEPTIVE PRACTICE                   0.148773\n",
       "HOMICIDE                             0.000791\n",
       "INTERFERENCE WITH PUBLIC OFFICER     0.001319\n",
       "INTIMIDATION                         0.000528\n",
       "KIDNAPPING                           0.000264\n",
       "LIQUOR LAW VIOLATION                 0.001846\n",
       "MOTOR VEHICLE THEFT                  0.042469\n",
       "NARCOTICS                            0.009760\n",
       "NON-CRIMINAL                         0.000528\n",
       "OBSCENITY                            0.000791\n",
       "OFFENSE INVOLVING CHILDREN           0.004484\n",
       "OTHER OFFENSE                        0.059615\n",
       "PROSTITUTION                         0.001583\n",
       "PUBLIC PEACE VIOLATION               0.003429\n",
       "ROBBERY                              0.037457\n",
       "SEX OFFENSE                          0.006331\n",
       "STALKING                             0.000791\n",
       "THEFT                                0.303086\n",
       "WEAPONS VIOLATION                    0.005276\n",
       "dtype: float64"
      ]
     },
     "execution_count": 2,
     "metadata": {},
     "output_type": "execute_result"
    }
   ],
   "source": [
    "near_south = results_df[results_df['community_area'] == '33']\n",
    "total = near_south.shape[0]\n",
    "near_south.groupby('primary_type').size()/total"
   ]
  },
  {
   "cell_type": "markdown",
   "metadata": {},
   "source": [
    "Most likely, the call was about theft -- if we calculate probabilities here to be the percentage of times a call was about that given crime over the two year period in question, then there is a ~30% chance that it is about theft. All of the probabilities are above."
   ]
  },
  {
   "cell_type": "markdown",
   "metadata": {},
   "source": [
    "Part B: Let’s now assume that a call comes in about Theft. Which is more likely– that the call came from Garfield Park or Uptown? How much more or less likely is it to be from Garfield Park vs Uptown?"
   ]
  },
  {
   "cell_type": "code",
   "execution_count": 3,
   "metadata": {},
   "outputs": [
    {
     "name": "stdout",
     "output_type": "stream",
     "text": [
      "Total theft reports in Uptown: 1954\n"
     ]
    },
    {
     "data": {
      "text/plain": [
       "primary_type\n",
       "ARSON                               0.000556\n",
       "ASSAULT                             0.073951\n",
       "BATTERY                             0.191410\n",
       "BURGLARY                            0.046567\n",
       "CRIM SEXUAL ASSAULT                 0.012371\n",
       "CRIMINAL DAMAGE                     0.086183\n",
       "CRIMINAL TRESPASS                   0.035307\n",
       "DECEPTIVE PRACTICE                  0.109258\n",
       "GAMBLING                            0.000139\n",
       "HOMICIDE                            0.000973\n",
       "INTERFERENCE WITH PUBLIC OFFICER    0.003614\n",
       "INTIMIDATION                        0.000834\n",
       "KIDNAPPING                          0.000278\n",
       "LIQUOR LAW VIOLATION                0.000417\n",
       "MOTOR VEHICLE THEFT                 0.031971\n",
       "NARCOTICS                           0.018905\n",
       "OBSCENITY                           0.000278\n",
       "OFFENSE INVOLVING CHILDREN          0.006533\n",
       "OTHER OFFENSE                       0.058660\n",
       "PROSTITUTION                        0.000139\n",
       "PUBLIC PEACE VIOLATION              0.006950\n",
       "ROBBERY                             0.029052\n",
       "SEX OFFENSE                         0.006811\n",
       "STALKING                            0.000278\n",
       "THEFT                               0.271615\n",
       "WEAPONS VIOLATION                   0.006950\n",
       "dtype: float64"
      ]
     },
     "execution_count": 3,
     "metadata": {},
     "output_type": "execute_result"
    }
   ],
   "source": [
    "#Check distribution for uptown\n",
    "uptown = results_df[results_df['community_area'] == '3']\n",
    "total_up = uptown.shape[0]\n",
    "total_theft = uptown[uptown['primary_type'] == 'THEFT'].shape[0]\n",
    "print('Total theft reports in Uptown:', total_theft)\n",
    "uptown.groupby('primary_type').size()/total_up"
   ]
  },
  {
   "cell_type": "code",
   "execution_count": 4,
   "metadata": {},
   "outputs": [
    {
     "name": "stdout",
     "output_type": "stream",
     "text": [
      "Total theft reports in Garfield: 2494\n"
     ]
    },
    {
     "data": {
      "text/plain": [
       "primary_type\n",
       "ARSON                                0.001788\n",
       "ASSAULT                              0.077812\n",
       "BATTERY                              0.220337\n",
       "BURGLARY                             0.025518\n",
       "CONCEALED CARRY LICENSE VIOLATION    0.000242\n",
       "CRIM SEXUAL ASSAULT                  0.005510\n",
       "CRIMINAL DAMAGE                      0.094389\n",
       "CRIMINAL TRESPASS                    0.031850\n",
       "DECEPTIVE PRACTICE                   0.032188\n",
       "GAMBLING                             0.003721\n",
       "HOMICIDE                             0.004011\n",
       "INTERFERENCE WITH PUBLIC OFFICER     0.008989\n",
       "INTIMIDATION                         0.000483\n",
       "KIDNAPPING                           0.000580\n",
       "LIQUOR LAW VIOLATION                 0.000918\n",
       "MOTOR VEHICLE THEFT                  0.036731\n",
       "NARCOTICS                            0.159828\n",
       "NON-CRIMINAL (SUBJECT SPECIFIED)     0.000048\n",
       "OBSCENITY                            0.000242\n",
       "OFFENSE INVOLVING CHILDREN           0.007008\n",
       "OTHER OFFENSE                        0.056256\n",
       "PROSTITUTION                         0.016432\n",
       "PUBLIC PEACE VIOLATION               0.007685\n",
       "ROBBERY                              0.056208\n",
       "SEX OFFENSE                          0.002610\n",
       "STALKING                             0.000435\n",
       "THEFT                                0.120535\n",
       "WEAPONS VIOLATION                    0.027645\n",
       "dtype: float64"
      ]
     },
     "execution_count": 4,
     "metadata": {},
     "output_type": "execute_result"
    }
   ],
   "source": [
    "#Check distribution for Garfield -- note, we will aggregate East & West\n",
    "garfield = results_df[results_df['community_area'].isin(['26','27'])]\n",
    "total_gar = garfield.shape[0]\n",
    "gar_theft = garfield[garfield['primary_type'] == 'THEFT'].shape[0]\n",
    "print('Total theft reports in Garfield:', gar_theft)\n",
    "garfield.groupby('primary_type').size()/total_gar"
   ]
  },
  {
   "cell_type": "markdown",
   "metadata": {},
   "source": [
    "Comparing these two distributions, we see that if a call came from Uptown, there is a ~27% chance it was about theft, whereas for Garfield, there would be a ~12% chance it was about theft. Thus if we are calling from Uptown it is a little over twice as likely the call is about theft. However, there were still about ~500 more calls about theft coming from Garfield (combining east/west) than Uptown over the two years. What we should look at is the probability a call is from Garfield or Uptown, given that it is theft."
   ]
  },
  {
   "cell_type": "code",
   "execution_count": 5,
   "metadata": {},
   "outputs": [
    {
     "name": "stdout",
     "output_type": "stream",
     "text": [
      "Garfield: 56%\n",
      "Uptown: 44%\n"
     ]
    }
   ],
   "source": [
    "print('Garfield:', \"{0:.0%}\".format(2494/(2494+1954)))\n",
    "print('Uptown:',\"{0:.0%}\".format(1954/(2494+1954)))"
   ]
  },
  {
   "cell_type": "markdown",
   "metadata": {},
   "source": [
    "Thus, it is ~12% more likely the care came from Garfield."
   ]
  },
  {
   "cell_type": "markdown",
   "metadata": {},
   "source": [
    "What we want here for part C are the conditional probabilities that a call came from Garfield Park given that we know it is battery, versus Uptown.\n",
    "\n",
    "Pr(uptown|battery) = 160/260\n",
    "Pr(garfield|battery) = 100/260"
   ]
  },
  {
   "cell_type": "code",
   "execution_count": 6,
   "metadata": {},
   "outputs": [
    {
     "name": "stdout",
     "output_type": "stream",
     "text": [
      "Garfield: 38%\n",
      "Uptown: 62%\n"
     ]
    }
   ],
   "source": [
    "print('Garfield:', \"{0:.0%}\".format(100/260))\n",
    "print('Uptown:',\"{0:.0%}\".format(160/260))"
   ]
  },
  {
   "cell_type": "markdown",
   "metadata": {},
   "source": [
    "Thus it's ~25% less likely to have come from Garfield than Uptown"
   ]
  }
 ],
 "metadata": {
  "kernelspec": {
   "display_name": "Python [conda env:exe] *",
   "language": "python",
   "name": "conda-env-exe-py"
  },
  "language_info": {
   "codemirror_mode": {
    "name": "ipython",
    "version": 3
   },
   "file_extension": ".py",
   "mimetype": "text/x-python",
   "name": "python",
   "nbconvert_exporter": "python",
   "pygments_lexer": "ipython3",
   "version": "3.7.3"
  }
 },
 "nbformat": 4,
 "nbformat_minor": 2
}
